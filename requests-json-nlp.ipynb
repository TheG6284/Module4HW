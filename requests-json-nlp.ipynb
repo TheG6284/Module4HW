{
 "cells": [
  {
   "cell_type": "markdown",
   "metadata": {},
   "source": [
    "# Web Mining and Applied NLP (44-620)\n",
    "\n",
    "## Requests, JSON, and NLP\n",
    "\n",
    "### Student Name: Gavin Albrecht\n",
    "\n",
    "Perform the tasks described in the Markdown cells below.  When you have completed the assignment make sure your code cells have all been run (and have output beneath them) and ensure you have committed and pushed ALL of your changes to your assignment repository.\n",
    "\n",
    "Make sure you have [installed spaCy and its pipeline](https://spacy.io/usage#quickstart) and [spaCyTextBlob](https://spacy.io/universe/project/spacy-textblob)\n",
    "\n",
    "Every question that requires you to write code will have a code cell underneath it; you may either write your entire solution in that cell or write it in a python file (`.py`), then import and run the appropriate code to answer the question.\n",
    "\n",
    "This assignment requires that you write additional files (either JSON or pickle files); make sure to submit those files in your repository as well."
   ]
  },
  {
   "cell_type": "markdown",
   "metadata": {},
   "source": [
    "# Github Link:https://github.com/TheG6284/Module4HW"
   ]
  },
  {
   "cell_type": "markdown",
   "metadata": {},
   "source": [
    "# Question 1"
   ]
  },
  {
   "cell_type": "markdown",
   "metadata": {},
   "source": [
    "1. The following code accesses the [lyrics.ovh](https://lyricsovh.docs.apiary.io/#reference/0/lyrics-of-a-song/search) public api, searches for the lyrics of a song, and stores it in a dictionary object.  Write the resulting json to a file (either a JSON file or a pickle file; you choose). You will read in the contents of this file for future questions so we do not need to frequently access the API."
   ]
  },
  {
   "cell_type": "code",
   "execution_count": 1,
   "metadata": {},
   "outputs": [
    {
     "name": "stdout",
     "output_type": "stream",
     "text": [
      "{'title': 'The Raven', 'author': 'Edgar Allan Poe', 'lines': ['Once upon a midnight dreary, while I pondered, weak and weary,', 'Over many a quaint and curious volume of forgotten lore--', 'While I nodded, nearly napping, suddenly there came a tapping,', 'As of some one gently rapping--rapping at my chamber door.', '\"\\'Tis some visitor,\" I muttered, \"tapping at my chamber door--', '        Only this and nothing more.\"', '', 'Ah, distinctly I remember, it was in the bleak December,', 'And each separate dying ember wrought its ghost upon the floor.', 'Eagerly I wished the morrow;--vainly I had sought to borrow', 'From my books surcease of sorrow--sorrow for the lost Lenore--', 'For the rare and radiant maiden whom the angels name Lenore--', '        Nameless here for evermore.', '', 'And the silken sad uncertain rustling of each purple curtain', 'Thrilled me--filled me with fantastic terrors never felt before;', 'So that now, to still the beating of my heart, I stood repeating', '\"\\'Tis some visitor entreating entrance at my chamber door--', 'Some late visitor entreating entrance at my chamber door;--', '    This it is and nothing more.\"', '', 'Presently my soul grew stronger; hesitating then no longer,', '\"Sir,\" said I, \"or Madam, truly your forgiveness I implore;', 'But the fact is I was napping, and so gently you came rapping,', 'And so faintly you came tapping--tapping at my chamber door,', 'That I scarce was sure I heard you\"--here I opened wide the door:--', '      Darkness there and nothing more.', '', 'Deep into that darkness peering, long I stood there wondering,', '  fearing,', 'Doubting, dreaming dreams no mortal ever dared to dream before;', 'But the silence was unbroken, and the darkness gave no token,', 'And the only word there spoken was the whispered word, \"Lenore!\"', 'This I whispered, and an echo murmured back the word, \"Lenore!\"', '      Merely this and nothing more.', '', 'Back into the chamber turning, all my soul within me burning,', 'Soon I heard again a tapping, somewhat louder than before.', '\"Surely,\" said I, \"surely that is something at my window lattice;', 'Let me see, then, what thereat is, and this mystery explore--', 'Let my heart be still a moment, and this mystery explore;--', '    \\'Tis the wind and nothing more.\"', '', 'Open here I flung the shutter, when, with many a flirt and flutter,', 'In there stepped a stately Raven of the saintly days of yore;', 'Not the least obeisance made he: not an instant stopped or stayed he;', 'But, with mien of lord or lady, perched above my chamber door--', 'Perched upon a bust of Pallas just above my chamber door--', '    Perched, and sat, and nothing more.', '', 'Then this ebony bird beguiling my sad fancy into smiling,', 'By the grave and stern decorum of the countenance it wore,', '\"Though thy crest be shorn and shaven, thou,\" I said, \"art sure no', '  craven,', 'Ghastly grim and ancient Raven wandering from the Nightly shore--', 'Tell me what thy lordly name is on the Night\\'s Plutonian shore!\"', '      Quoth the Raven, \"Nevermore.\"', '', 'Much I marvelled this ungainly fowl to hear discourse so plainly,', 'Though its answer little meaning--little relevancy bore;', 'For we cannot help agreeing that no living human being', 'Ever yet was blessed with seeing bird above his chamber door--', 'Bird or beast upon the sculptured bust above his chamber door,', '      With such name as \"Nevermore.\"', '', 'But the Raven, sitting lonely on that placid bust, spoke only', 'That one word, as if his soul in that one word he did outpour.', 'Nothing further then he uttered--not a feather then he fluttered--', 'Till I scarcely more than muttered, \"Other friends have flown before--', 'On the morrow _he_ will leave me, as my hopes have flown before.\"', '      Then the bird said, \"Nevermore.\"', '', 'Startled at the stillness broken by reply so aptly spoken,', '\"Doubtless,\" said I, \"what it utters is its only stock and store,', 'Caught from some unhappy master whom unmerciful Disaster', 'Followed fast and followed faster till his songs one burden bore--', 'Till the dirges of his Hope the melancholy burden bore', '    Of \\'Never--nevermore.\\'\"', '', 'But the Raven still beguiling all my sad soul into smiling,', 'Straight I wheeled a cushioned seat in front of bird and bust and', '  door;', 'Then, upon the velvet sinking, I betook myself to linking', 'Fancy unto fancy, thinking what this ominous bird of yore--', 'What this grim, ungainly, ghastly, gaunt, and ominous bird of yore', '    Meant in croaking \"Nevermore.\"', '', 'This I sat engaged in guessing, but no syllable expressing', \"To the fowl whose fiery eyes now burned into my bosom's core;\", 'This and more I sat divining, with my head at ease reclining', \"On the cushion's velvet lining that the lamp-light gloated o'er,\", \"But whose velvet violet lining with the lamp-light gloating o'er,\", '      _She_ shall press, ah, nevermore!', '', 'Then, methought, the air grew denser, perfumed from an unseen censer', 'Swung by Seraphim whose foot-falls tinkled on the tufted floor.', '\"Wretch,\" I cried, \"thy God hath lent thee--by these angels he hath', '  sent thee', 'Respite--respite aad nepenthé from thy memories of Lenore!', 'Quaff, oh quaff this kind nepenthé, and forget this lost Lenore!\"', '      Quoth the Raven, \"Nevermore.\"', '', '\"Prophet!\" said I, \"thing of evil!--prophet still, if bird or devil!--', 'Whether Tempter sent, or whether tempest tossed thee here ashore,', 'Desolate yet all undaunted, on this desert land enchanted--', 'On this home by Horror haunted--tell me truly, I implore--', 'Is there--_is_ there balm in Gilead?--tell me--tell me, I implore!\"', '    Quoth the Raven, \"Nevermore.\"', '', '\"Prophet!\" said I, \"thing of evil!--prophet still, if bird or devil!', 'By that Heaven that bends above us--by that God we both adore--', 'Tell this soul with sorrow laden if, within the distant Aidenn,', 'It shall clasp a sainted maiden whom the angels name Lenore--', 'Clasp a rare and radiant maiden whom the angels name Lenore.\"', '      Quoth the Raven, \"Nevermore.\"', '', '\"Be that word our sign of parting, bird or fiend!\" I shrieked,', '  upstarting--', '\"Get thee back into the tempest and the Night\\'s Plutonian shore!', 'Leave no black plume as a token of that lie thy soul hath spoken!', 'Leave my loneliness unbroken!--quit the bust above my door!', 'Take thy beak from out my heart, and take thy form from off my door!\"', '    Quoth the Raven, \"Nevermore.\"', '', 'And the Raven, never flitting, still is sitting, still is sitting', 'On the pallid bust of Pallas just above my chamber door;', \"And his eyes have all the seeming of a demon's that is dreaming,\", \"And the lamp-light o'er him streaming throws his shadow on the floor;\", 'And my soul from out that shadow that lies floating on the floor', '    Shall be lifted--nevermore!'], 'linecount': '113'}\n"
     ]
    }
   ],
   "source": [
    "import requests\n",
    "import json\n",
    "\n",
    "AUTHOR='Edgar Allan Poe'\n",
    "POEM = 'The Raven'\n",
    "\n",
    "URL = f'https://poetrydb.org/author,title/{AUTHOR};{POEM}'\n",
    "result = json.loads(requests.get(URL).text)[0]\n",
    "print(result)\n",
    "\n",
    "with open('poem.json', 'w') as outfile:\n",
    "    json.dump(result,outfile)\n",
    "\n"
   ]
  },
  {
   "cell_type": "markdown",
   "metadata": {},
   "source": [
    "# Question 2"
   ]
  },
  {
   "cell_type": "markdown",
   "metadata": {},
   "source": [
    "2. Read in the contents of your file.  Print the lyrics of the song (not the entire dictionary!) and use spaCyTextBlob to perform sentiment analysis on the lyrics.  Print the polarity score of the sentiment analysis.  Given that the range of the polarity score is `[-1.0,1.0]` which corresponds to how positive or negative the text in question is, do you think the lyrics have a more positive or negative connotaion?  Answer this question in a comment in your code cell."
   ]
  },
  {
   "cell_type": "code",
   "execution_count": 2,
   "metadata": {},
   "outputs": [
    {
     "name": "stdout",
     "output_type": "stream",
     "text": [
      "['Once upon a midnight dreary, while I pondered, weak and weary,', 'Over many a quaint and curious volume of forgotten lore--', 'While I nodded, nearly napping, suddenly there came a tapping,', 'As of some one gently rapping--rapping at my chamber door.', '\"\\'Tis some visitor,\" I muttered, \"tapping at my chamber door--', '        Only this and nothing more.\"', '', 'Ah, distinctly I remember, it was in the bleak December,', 'And each separate dying ember wrought its ghost upon the floor.', 'Eagerly I wished the morrow;--vainly I had sought to borrow', 'From my books surcease of sorrow--sorrow for the lost Lenore--', 'For the rare and radiant maiden whom the angels name Lenore--', '        Nameless here for evermore.', '', 'And the silken sad uncertain rustling of each purple curtain', 'Thrilled me--filled me with fantastic terrors never felt before;', 'So that now, to still the beating of my heart, I stood repeating', '\"\\'Tis some visitor entreating entrance at my chamber door--', 'Some late visitor entreating entrance at my chamber door;--', '    This it is and nothing more.\"', '', 'Presently my soul grew stronger; hesitating then no longer,', '\"Sir,\" said I, \"or Madam, truly your forgiveness I implore;', 'But the fact is I was napping, and so gently you came rapping,', 'And so faintly you came tapping--tapping at my chamber door,', 'That I scarce was sure I heard you\"--here I opened wide the door:--', '      Darkness there and nothing more.', '', 'Deep into that darkness peering, long I stood there wondering,', '  fearing,', 'Doubting, dreaming dreams no mortal ever dared to dream before;', 'But the silence was unbroken, and the darkness gave no token,', 'And the only word there spoken was the whispered word, \"Lenore!\"', 'This I whispered, and an echo murmured back the word, \"Lenore!\"', '      Merely this and nothing more.', '', 'Back into the chamber turning, all my soul within me burning,', 'Soon I heard again a tapping, somewhat louder than before.', '\"Surely,\" said I, \"surely that is something at my window lattice;', 'Let me see, then, what thereat is, and this mystery explore--', 'Let my heart be still a moment, and this mystery explore;--', '    \\'Tis the wind and nothing more.\"', '', 'Open here I flung the shutter, when, with many a flirt and flutter,', 'In there stepped a stately Raven of the saintly days of yore;', 'Not the least obeisance made he: not an instant stopped or stayed he;', 'But, with mien of lord or lady, perched above my chamber door--', 'Perched upon a bust of Pallas just above my chamber door--', '    Perched, and sat, and nothing more.', '', 'Then this ebony bird beguiling my sad fancy into smiling,', 'By the grave and stern decorum of the countenance it wore,', '\"Though thy crest be shorn and shaven, thou,\" I said, \"art sure no', '  craven,', 'Ghastly grim and ancient Raven wandering from the Nightly shore--', 'Tell me what thy lordly name is on the Night\\'s Plutonian shore!\"', '      Quoth the Raven, \"Nevermore.\"', '', 'Much I marvelled this ungainly fowl to hear discourse so plainly,', 'Though its answer little meaning--little relevancy bore;', 'For we cannot help agreeing that no living human being', 'Ever yet was blessed with seeing bird above his chamber door--', 'Bird or beast upon the sculptured bust above his chamber door,', '      With such name as \"Nevermore.\"', '', 'But the Raven, sitting lonely on that placid bust, spoke only', 'That one word, as if his soul in that one word he did outpour.', 'Nothing further then he uttered--not a feather then he fluttered--', 'Till I scarcely more than muttered, \"Other friends have flown before--', 'On the morrow _he_ will leave me, as my hopes have flown before.\"', '      Then the bird said, \"Nevermore.\"', '', 'Startled at the stillness broken by reply so aptly spoken,', '\"Doubtless,\" said I, \"what it utters is its only stock and store,', 'Caught from some unhappy master whom unmerciful Disaster', 'Followed fast and followed faster till his songs one burden bore--', 'Till the dirges of his Hope the melancholy burden bore', '    Of \\'Never--nevermore.\\'\"', '', 'But the Raven still beguiling all my sad soul into smiling,', 'Straight I wheeled a cushioned seat in front of bird and bust and', '  door;', 'Then, upon the velvet sinking, I betook myself to linking', 'Fancy unto fancy, thinking what this ominous bird of yore--', 'What this grim, ungainly, ghastly, gaunt, and ominous bird of yore', '    Meant in croaking \"Nevermore.\"', '', 'This I sat engaged in guessing, but no syllable expressing', \"To the fowl whose fiery eyes now burned into my bosom's core;\", 'This and more I sat divining, with my head at ease reclining', \"On the cushion's velvet lining that the lamp-light gloated o'er,\", \"But whose velvet violet lining with the lamp-light gloating o'er,\", '      _She_ shall press, ah, nevermore!', '', 'Then, methought, the air grew denser, perfumed from an unseen censer', 'Swung by Seraphim whose foot-falls tinkled on the tufted floor.', '\"Wretch,\" I cried, \"thy God hath lent thee--by these angels he hath', '  sent thee', 'Respite--respite aad nepenthé from thy memories of Lenore!', 'Quaff, oh quaff this kind nepenthé, and forget this lost Lenore!\"', '      Quoth the Raven, \"Nevermore.\"', '', '\"Prophet!\" said I, \"thing of evil!--prophet still, if bird or devil!--', 'Whether Tempter sent, or whether tempest tossed thee here ashore,', 'Desolate yet all undaunted, on this desert land enchanted--', 'On this home by Horror haunted--tell me truly, I implore--', 'Is there--_is_ there balm in Gilead?--tell me--tell me, I implore!\"', '    Quoth the Raven, \"Nevermore.\"', '', '\"Prophet!\" said I, \"thing of evil!--prophet still, if bird or devil!', 'By that Heaven that bends above us--by that God we both adore--', 'Tell this soul with sorrow laden if, within the distant Aidenn,', 'It shall clasp a sainted maiden whom the angels name Lenore--', 'Clasp a rare and radiant maiden whom the angels name Lenore.\"', '      Quoth the Raven, \"Nevermore.\"', '', '\"Be that word our sign of parting, bird or fiend!\" I shrieked,', '  upstarting--', '\"Get thee back into the tempest and the Night\\'s Plutonian shore!', 'Leave no black plume as a token of that lie thy soul hath spoken!', 'Leave my loneliness unbroken!--quit the bust above my door!', 'Take thy beak from out my heart, and take thy form from off my door!\"', '    Quoth the Raven, \"Nevermore.\"', '', 'And the Raven, never flitting, still is sitting, still is sitting', 'On the pallid bust of Pallas just above my chamber door;', \"And his eyes have all the seeming of a demon's that is dreaming,\", \"And the lamp-light o'er him streaming throws his shadow on the floor;\", 'And my soul from out that shadow that lies floating on the floor', '    Shall be lifted--nevermore!']\n"
     ]
    },
    {
     "data": {
      "text/plain": [
       "0.006575520833333337"
      ]
     },
     "execution_count": 2,
     "metadata": {},
     "output_type": "execute_result"
    }
   ],
   "source": [
    "import spacy\n",
    "from spacytextblob.spacytextblob import SpacyTextBlob\n",
    "\n",
    "with open('poem.json', 'r') as f:\n",
    "    poem_info = json.load(f)\n",
    "print(poem_info['lines'])\n",
    "nlp = spacy.load('en_core_web_sm')\n",
    "nlp.add_pipe('spacytextblob')\n",
    "text = nlp(''.join(poem_info['lines']))\n",
    "text._.blob.polarity\n",
    "\n",
    "\n",
    "\n",
    "\n",
    "#So the sentiment analysis says that this poem is neith positive nor negative, which I think is somewhat accurate, I would have expected a little more negative of a score for this particular poem\n"
   ]
  },
  {
   "cell_type": "markdown",
   "metadata": {},
   "source": [
    "# Question 3"
   ]
  },
  {
   "cell_type": "markdown",
   "metadata": {},
   "source": [
    "3. Write a function that takes an artist, song, and filename, accesses the lyrics.ovh api to get the song lyrics, and writes the results to the specified filename.  Test this function by getting the lyrics to any four songs of your choice and storing them in different files."
   ]
  },
  {
   "cell_type": "code",
   "execution_count": 3,
   "metadata": {},
   "outputs": [],
   "source": [
    "def poem_get(auth, poem, output):\n",
    "    \n",
    "    URL = f'https://poetrydb.org/author,title/{auth};{poem}'\n",
    "    result = json.loads(requests.get(URL).text)[0]\n",
    "    output = output +'.json'\n",
    "\n",
    "    with open(output, 'w') as outfile:\n",
    "        json.dump(result,outfile)\n",
    "    \n",
    "poem_get(\"Charles Sorley\", \"Such, Such Is Death\", \"Sorley_Such_Is\")\n",
    "poem_get(\"Christina Rossetti\", \"A Birthday\", \"Rossetti_A_Birthday\")\n",
    "poem_get(\"Thomas Hood\", \"The Haunted House\", \"Hood_Haunted_House\")\n",
    "poem_get(\"Francis Thompson\", \"The Hound of Heaven\", \"Thompson_Heaven_Hound\")"
   ]
  },
  {
   "cell_type": "markdown",
   "metadata": {},
   "source": [
    "# Question 4"
   ]
  },
  {
   "cell_type": "markdown",
   "metadata": {},
   "source": [
    "4. Write a function that takes the name of a file that contains song lyrics, loads the file, performs sentiment analysis, and returns the polarity score.  Use this function to print the polarity scores (with the name of the song) of the three files you created in question 3.  Does the reported polarity match your understanding of the song's lyrics? Why or why not do you think that might be?  Answer the questions in either a comment in the code cell or a markdown cell under the code cell."
   ]
  },
  {
   "cell_type": "code",
   "execution_count": 4,
   "metadata": {},
   "outputs": [
    {
     "name": "stdout",
     "output_type": "stream",
     "text": [
      "0.022727272727272728\n",
      "0.5\n",
      "-0.03874603174603175\n",
      "0.0717614379084967\n"
     ]
    }
   ],
   "source": [
    "nlp = spacy.load('en_core_web_sm')\n",
    "nlp.add_pipe('spacytextblob')\n",
    "\n",
    "def poem_analyze(file):\n",
    "    \n",
    "    with open(file, 'r') as f:\n",
    "        poem = json.load(f)\n",
    "    \n",
    "    nlp = spacy.load('en_core_web_sm')\n",
    "    nlp.add_pipe('spacytextblob')\n",
    "\n",
    "    poem_str = ''.join(poem['lines'])\n",
    "    return nlp(poem_str)._.blob.polarity\n",
    "\n",
    "    \n",
    "    \n",
    "\n",
    "    \n",
    "\n",
    "    \n",
    "\n",
    "print(poem_analyze(\"Sorley_Such_Is.json\"))\n",
    "print(poem_analyze(\"Rossetti_A_Birthday.json\"))\n",
    "print(poem_analyze(\"Hood_Haunted_House.json\"))\n",
    "print(poem_analyze(\"Thompson_Heaven_Hound.json\"))\n",
    "\n",
    "\n",
    "#For these poems I think the analysis matches up very well, the only one of them that I would finde remotely positive is A Birthday, so I think the others deserve their respective neagtivity scores"
   ]
  }
 ],
 "metadata": {
  "kernelspec": {
   "display_name": "Python 3 (ipykernel)",
   "language": "python",
   "name": "python3"
  },
  "language_info": {
   "codemirror_mode": {
    "name": "ipython",
    "version": 3
   },
   "file_extension": ".py",
   "mimetype": "text/x-python",
   "name": "python",
   "nbconvert_exporter": "python",
   "pygments_lexer": "ipython3",
   "version": "3.9.12"
  }
 },
 "nbformat": 4,
 "nbformat_minor": 4
}
